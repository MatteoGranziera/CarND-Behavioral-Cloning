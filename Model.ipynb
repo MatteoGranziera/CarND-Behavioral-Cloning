{
 "cells": [
  {
   "cell_type": "code",
   "execution_count": 8,
   "id": "boolean-renewal",
   "metadata": {},
   "outputs": [],
   "source": [
    "import pandas as pd\n",
    "import numpy as np\n",
    "import cv2\n",
    "from keras.models import Sequential\n",
    "from keras.layers import Flatten, Dense\n",
    "\n",
    "data_path = '../sim/'"
   ]
  },
  {
   "cell_type": "code",
   "execution_count": 15,
   "id": "classified-database",
   "metadata": {},
   "outputs": [],
   "source": [
    "logs = pd.read_csv(data_path + 'driving_log.csv')\n",
    "\n",
    "logs = logs.values\n",
    "\n",
    "images = []\n",
    "measurements = []\n",
    "\n",
    "images_path = data_path + 'IMG/'\n",
    "\n",
    "for line in logs:\n",
    "    center_path = line[0]\n",
    "    center_path = images_path + center_path.split('/')[-1]\n",
    "    center_img = cv2.imread(center_path)\n",
    "    images.append(center_img)\n",
    "    \n",
    "    measure = float(line[3])\n",
    "    measurements.append(measure)\n",
    "    \n",
    "X_train = np.array(images)\n",
    "y_train = np.array(measurements)\n",
    "    \n",
    "    "
   ]
  },
  {
   "cell_type": "code",
   "execution_count": 17,
   "id": "olympic-adobe",
   "metadata": {},
   "outputs": [
    {
     "name": "stdout",
     "output_type": "stream",
     "text": [
      "Epoch 1/10\n",
      "102/102 [==============================] - 0s 2ms/step - loss: 147752355.2426\n",
      "Epoch 2/10\n",
      "102/102 [==============================] - 0s 794us/step - loss: 151982039.9730\n",
      "Epoch 3/10\n",
      "102/102 [==============================] - 0s 794us/step - loss: 92253810.8235\n",
      "Epoch 4/10\n",
      "102/102 [==============================] - 0s 804us/step - loss: 19807960.0784\n",
      "Epoch 5/10\n",
      "102/102 [==============================] - 0s 804us/step - loss: 26475876.4412\n",
      "Epoch 6/10\n",
      "102/102 [==============================] - 0s 814us/step - loss: 28468094.2549\n",
      "Epoch 7/10\n",
      "102/102 [==============================] - 0s 833us/step - loss: 7273458.2745\n",
      "Epoch 8/10\n",
      "102/102 [==============================] - 0s 794us/step - loss: 6482896.8358\n",
      "Epoch 9/10\n",
      "102/102 [==============================] - 0s 824us/step - loss: 8091179.6434\n",
      "Epoch 10/10\n",
      "102/102 [==============================] - 0s 814us/step - loss: 3585877.1961\n"
     ]
    }
   ],
   "source": [
    "model = Sequential()\n",
    "\n",
    "model.add(Flatten(input_shape=(160, 320, 3)))\n",
    "model.add(Dense(1))\n",
    "\n",
    "model.compile(loss='mse', optimizer='adam')\n",
    "\n",
    "model.fit(X_train, y_train)\n",
    "\n",
    "model.save('model.h5')"
   ]
  }
 ],
 "metadata": {
  "kernelspec": {
   "display_name": "Python 3",
   "language": "python",
   "name": "python3"
  },
  "language_info": {
   "codemirror_mode": {
    "name": "ipython",
    "version": 3
   },
   "file_extension": ".py",
   "mimetype": "text/x-python",
   "name": "python",
   "nbconvert_exporter": "python",
   "pygments_lexer": "ipython3",
   "version": "3.6.12"
  }
 },
 "nbformat": 4,
 "nbformat_minor": 5
}
