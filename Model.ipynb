{
 "cells": [
  {
   "cell_type": "code",
   "execution_count": 1,
   "id": "bottom-pilot",
   "metadata": {},
   "outputs": [
    {
     "name": "stderr",
     "output_type": "stream",
     "text": [
      "D:\\Matteo\\Programmi\\Anaconda\\envs\\tf_gpu_13\\lib\\site-packages\\tensorflow\\python\\framework\\dtypes.py:458: FutureWarning: Passing (type, 1) or '1type' as a synonym of type is deprecated; in a future version of numpy, it will be understood as (type, (1,)) / '(1,)type'.\n",
      "  _np_qint8 = np.dtype([(\"qint8\", np.int8, 1)])\n",
      "D:\\Matteo\\Programmi\\Anaconda\\envs\\tf_gpu_13\\lib\\site-packages\\tensorflow\\python\\framework\\dtypes.py:459: FutureWarning: Passing (type, 1) or '1type' as a synonym of type is deprecated; in a future version of numpy, it will be understood as (type, (1,)) / '(1,)type'.\n",
      "  _np_quint8 = np.dtype([(\"quint8\", np.uint8, 1)])\n",
      "D:\\Matteo\\Programmi\\Anaconda\\envs\\tf_gpu_13\\lib\\site-packages\\tensorflow\\python\\framework\\dtypes.py:460: FutureWarning: Passing (type, 1) or '1type' as a synonym of type is deprecated; in a future version of numpy, it will be understood as (type, (1,)) / '(1,)type'.\n",
      "  _np_qint16 = np.dtype([(\"qint16\", np.int16, 1)])\n",
      "D:\\Matteo\\Programmi\\Anaconda\\envs\\tf_gpu_13\\lib\\site-packages\\tensorflow\\python\\framework\\dtypes.py:461: FutureWarning: Passing (type, 1) or '1type' as a synonym of type is deprecated; in a future version of numpy, it will be understood as (type, (1,)) / '(1,)type'.\n",
      "  _np_quint16 = np.dtype([(\"quint16\", np.uint16, 1)])\n",
      "D:\\Matteo\\Programmi\\Anaconda\\envs\\tf_gpu_13\\lib\\site-packages\\tensorflow\\python\\framework\\dtypes.py:462: FutureWarning: Passing (type, 1) or '1type' as a synonym of type is deprecated; in a future version of numpy, it will be understood as (type, (1,)) / '(1,)type'.\n",
      "  _np_qint32 = np.dtype([(\"qint32\", np.int32, 1)])\n",
      "D:\\Matteo\\Programmi\\Anaconda\\envs\\tf_gpu_13\\lib\\site-packages\\tensorflow\\python\\framework\\dtypes.py:465: FutureWarning: Passing (type, 1) or '1type' as a synonym of type is deprecated; in a future version of numpy, it will be understood as (type, (1,)) / '(1,)type'.\n",
      "  np_resource = np.dtype([(\"resource\", np.ubyte, 1)])\n"
     ]
    },
    {
     "name": "stdout",
     "output_type": "stream",
     "text": [
      "[name: \"/cpu:0\"\n",
      "device_type: \"CPU\"\n",
      "memory_limit: 268435456\n",
      "locality {\n",
      "}\n",
      "incarnation: 14785337599111505167\n",
      ", name: \"/gpu:0\"\n",
      "device_type: \"GPU\"\n",
      "memory_limit: 3263086592\n",
      "locality {\n",
      "  bus_id: 1\n",
      "}\n",
      "incarnation: 13578535081011926090\n",
      "physical_device_desc: \"device: 0, name: GeForce GTX 1050 Ti, pci bus id: 0000:01:00.0\"\n",
      "]\n"
     ]
    }
   ],
   "source": [
    "from tensorflow.python.client import device_lib\n",
    "print(device_lib.list_local_devices())"
   ]
  },
  {
   "cell_type": "code",
   "execution_count": 2,
   "id": "boolean-renewal",
   "metadata": {},
   "outputs": [
    {
     "name": "stderr",
     "output_type": "stream",
     "text": [
      "Using TensorFlow backend.\n"
     ]
    }
   ],
   "source": [
    "import pandas as pd\n",
    "import numpy as np\n",
    "import cv2\n",
    "from tqdm import tqdm\n",
    "from keras.models import Sequential\n",
    "from keras.layers import Flatten, Dense, Lambda\n",
    "from keras.layers import Conv2D, MaxPooling2D\n",
    "\n",
    "# from keras.backend.tensorflow_backend import set_session\n",
    "# import tensorflow as tf\n",
    "# config = tf.ConfigProto()\n",
    "# config.gpu_options.allow_growth = True  # dynamically grow the memory used on the GPU\n",
    "# config.log_device_placement = True  # to log device placement (on which device the operation ran)\n",
    "# sess = tf.Session(config=config)\n",
    "# set_session(sess)  # set this TensorFlow session as the default session for Keras\n",
    "\n",
    "data_path = '../sim_data/run1/'"
   ]
  },
  {
   "cell_type": "code",
   "execution_count": 3,
   "id": "classified-database",
   "metadata": {},
   "outputs": [
    {
     "name": "stderr",
     "output_type": "stream",
     "text": [
      "100%|█████████████████████████████████████████████████████████████████████████████| 4443/4443 [00:04<00:00, 939.50it/s]\n"
     ]
    }
   ],
   "source": [
    "logs = pd.read_csv(data_path + 'driving_log.csv')\n",
    "\n",
    "logs = logs.values\n",
    "\n",
    "images = []\n",
    "measurements = []\n",
    "\n",
    "images_path = data_path + 'IMG/'\n",
    "\n",
    "for i in tqdm(range(len(logs))):\n",
    "    line = logs[i]\n",
    "    center_path = line[0]\n",
    "    center_path = images_path + center_path.split('/')[-1]\n",
    "    center_img = cv2.imread(center_path)\n",
    "    images.append(center_img)\n",
    "    \n",
    "    measure = float(line[3])\n",
    "    measurements.append(measure)\n",
    "    \n",
    "X_train = np.array(images)\n",
    "y_train = np.array(measurements)\n",
    "    \n",
    "    "
   ]
  },
  {
   "cell_type": "code",
   "execution_count": 7,
   "id": "olympic-adobe",
   "metadata": {},
   "outputs": [
    {
     "name": "stdout",
     "output_type": "stream",
     "text": [
      "Train on 3554 samples, validate on 889 samples\n",
      "Epoch 1/5\n",
      "3554/3554 [==============================] - 12s 3ms/step - loss: 6.6737 - val_loss: 0.0308\n",
      "Epoch 2/5\n",
      "3554/3554 [==============================] - 9s 2ms/step - loss: 0.0242 - val_loss: 0.0293\n",
      "Epoch 3/5\n",
      "3554/3554 [==============================] - 9s 2ms/step - loss: 0.0223 - val_loss: 0.0274\n",
      "Epoch 4/5\n",
      "3554/3554 [==============================] - 9s 2ms/step - loss: 0.0208 - val_loss: 0.0258\n",
      "Epoch 5/5\n",
      "3554/3554 [==============================] - 9s 2ms/step - loss: 0.0195 - val_loss: 0.0243\n"
     ]
    }
   ],
   "source": [
    "model = Sequential()\n",
    "\n",
    "# Normalization\n",
    "model.add(Lambda(lambda x: x / 255 - 0.5, input_shape=(160, 320, 3)))\n",
    "\n",
    "model.add(Conv2D(6,(5,5), activation=\"relu\", input_shape=(160, 320, 3)))\n",
    "model.add(MaxPooling2D())\n",
    "model.add(Conv2D(6,(5,5), activation=\"relu\"))\n",
    "model.add(MaxPooling2D())\n",
    "model.add(Flatten())\n",
    "model.add(Dense(120))\n",
    "model.add(Dense(8))\n",
    "model.add(Dense(1))\n",
    "\n",
    "model.compile(loss='mse', optimizer='adam')\n",
    "\n",
    "model.fit(X_train, y_train, validation_split=0.2, shuffle=True, epochs=5)\n",
    "\n",
    "model.save('model.h5')"
   ]
  }
 ],
 "metadata": {
  "kernelspec": {
   "display_name": "Python 3",
   "language": "python",
   "name": "python3"
  },
  "language_info": {
   "codemirror_mode": {
    "name": "ipython",
    "version": 3
   },
   "file_extension": ".py",
   "mimetype": "text/x-python",
   "name": "python",
   "nbconvert_exporter": "python",
   "pygments_lexer": "ipython3",
   "version": "3.6.12"
  }
 },
 "nbformat": 4,
 "nbformat_minor": 5
}
