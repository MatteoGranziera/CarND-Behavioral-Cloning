{
 "cells": [
  {
   "cell_type": "code",
   "execution_count": 9,
   "id": "boolean-renewal",
   "metadata": {},
   "outputs": [
    {
     "name": "stdout",
     "output_type": "stream",
     "text": [
      "Device mapping:\n",
      "/job:localhost/replica:0/task:0/device:GPU:0 -> device: 0, name: GeForce GTX 1050 Ti, pci bus id: 0000:01:00.0, compute capability: 6.1\n",
      "\n"
     ]
    }
   ],
   "source": [
    "import pandas as pd\n",
    "import numpy as np\n",
    "import cv2\n",
    "from tqdm import tqdm\n",
    "from keras.models import Sequential\n",
    "from keras.layers import Flatten, Dense, Lambda\n",
    "from keras.layers import Conv2D, MaxPooling2D\n",
    "\n",
    "from keras.backend.tensorflow_backend import set_session\n",
    "import tensorflow as tf\n",
    "config = tf.ConfigProto()\n",
    "config.gpu_options.allow_growth = True  # dynamically grow the memory used on the GPU\n",
    "config.log_device_placement = True  # to log device placement (on which device the operation ran)\n",
    "sess = tf.Session(config=config)\n",
    "set_session(sess)  # set this TensorFlow session as the default session for Keras\n",
    "\n",
    "data_path = '../sim_data/run1/'"
   ]
  },
  {
   "cell_type": "code",
   "execution_count": 2,
   "id": "classified-database",
   "metadata": {},
   "outputs": [
    {
     "name": "stderr",
     "output_type": "stream",
     "text": [
      "100%|█████████████████████████████████████████████████████████████████████████████| 4443/4443 [00:04<00:00, 976.90it/s]\n"
     ]
    }
   ],
   "source": [
    "logs = pd.read_csv(data_path + 'driving_log.csv')\n",
    "\n",
    "logs = logs.values\n",
    "\n",
    "images = []\n",
    "measurements = []\n",
    "\n",
    "images_path = data_path + 'IMG/'\n",
    "\n",
    "for i in tqdm(range(len(logs))):\n",
    "    line = logs[i]\n",
    "    center_path = line[0]\n",
    "    center_path = images_path + center_path.split('/')[-1]\n",
    "    center_img = cv2.imread(center_path)\n",
    "    images.append(center_img)\n",
    "    \n",
    "    measure = float(line[3])\n",
    "    measurements.append(measure)\n",
    "    \n",
    "X_train = np.array(images)\n",
    "y_train = np.array(measurements)\n",
    "    \n",
    "    "
   ]
  },
  {
   "cell_type": "code",
   "execution_count": 7,
   "id": "olympic-adobe",
   "metadata": {},
   "outputs": [
    {
     "name": "stdout",
     "output_type": "stream",
     "text": [
      "Train on 3554 samples, validate on 889 samples\n",
      "Epoch 1/5\n",
      "3554/3554 [==============================] - 8s 2ms/step - loss: 9.3574 - val_loss: 0.0301\n",
      "Epoch 2/5\n",
      "3554/3554 [==============================] - 7s 2ms/step - loss: 0.0199 - val_loss: 0.0271\n",
      "Epoch 3/5\n",
      "3554/3554 [==============================] - 7s 2ms/step - loss: 0.0159 - val_loss: 0.0262\n",
      "Epoch 4/5\n",
      "3554/3554 [==============================] - 7s 2ms/step - loss: 0.0137 - val_loss: 0.0270\n",
      "Epoch 5/5\n",
      "3554/3554 [==============================] - 7s 2ms/step - loss: 0.0118 - val_loss: 0.0277\n"
     ]
    }
   ],
   "source": [
    "model = Sequential()\n",
    "\n",
    "# Normalization\n",
    "model.add(Lambda(lambda x: x / 255 - 0.5, input_shape=(160, 320, 3)))\n",
    "\n",
    "model.add(Conv2D(6,(5,5), activation=\"relu\"))\n",
    "model.add(MaxPooling2D())\n",
    "model.add(Conv2D(6,(5,5), activation=\"relu\"))\n",
    "model.add(MaxPooling2D())\n",
    "model.add(Flatten())\n",
    "model.add(Dense(120))\n",
    "model.add(Dense(8))\n",
    "model.add(Dense(1))\n",
    "\n",
    "model.compile(loss='mse', optimizer='adam')\n",
    "\n",
    "model.fit(X_train, y_train, validation_split=0.2, shuffle=True, epochs=5)\n",
    "\n",
    "model.save('model.h5')"
   ]
  }
 ],
 "metadata": {
  "kernelspec": {
   "display_name": "Python 3",
   "language": "python",
   "name": "python3"
  },
  "language_info": {
   "codemirror_mode": {
    "name": "ipython",
    "version": 3
   },
   "file_extension": ".py",
   "mimetype": "text/x-python",
   "name": "python",
   "nbconvert_exporter": "python",
   "pygments_lexer": "ipython3",
   "version": "3.6.12"
  }
 },
 "nbformat": 4,
 "nbformat_minor": 5
}
